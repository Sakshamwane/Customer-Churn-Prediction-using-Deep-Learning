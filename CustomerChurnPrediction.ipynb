{
  "nbformat": 4,
  "nbformat_minor": 0,
  "metadata": {
    "colab": {
      "provenance": []
    },
    "kernelspec": {
      "name": "python3",
      "display_name": "Python 3"
    },
    "language_info": {
      "name": "python"
    }
  },
  "cells": [
    {
      "cell_type": "code",
      "execution_count": 1,
      "metadata": {
        "id": "ufdc9gxr4N5d"
      },
      "outputs": [],
      "source": [
        "import pandas as pd\n",
        "import numpy as np\n",
        "import matplotlib.pyplot as plt\n",
        "import seaborn as sns\n",
        "from sklearn.model_selection import train_test_split\n",
        "from sklearn.preprocessing import StandardScaler, LabelEncoder\n",
        "from sklearn.ensemble import RandomForestClassifier\n",
        "from xgboost import XGBClassifier\n",
        "from tensorflow.keras.models import Sequential\n",
        "from tensorflow.keras.layers import LSTM, Dense, Dropout\n",
        "from tensorflow.keras.callbacks import EarlyStopping\n",
        "from sklearn.metrics import accuracy_score, classification_report"
      ]
    },
    {
      "cell_type": "code",
      "source": [
        "# Load Dataset\n",
        "data = pd.read_csv(\"churn.csv\")"
      ],
      "metadata": {
        "id": "JJPY7iIt4sRy"
      },
      "execution_count": 2,
      "outputs": []
    },
    {
      "cell_type": "code",
      "source": [
        "# Preprocessing\n",
        "# Cleaning target column\n",
        "data['Churn?'] = data['Churn?'].map(lambda x: 1 if str(x).strip().lower() == 'true.' else 0)"
      ],
      "metadata": {
        "id": "WCdX19OX5ZD-"
      },
      "execution_count": 18,
      "outputs": []
    },
    {
      "cell_type": "code",
      "source": [
        "# Dropping irrelevant columns\n",
        "data.drop(columns=['Phone'], inplace=True)"
      ],
      "metadata": {
        "id": "0o2pc8yX9814"
      },
      "execution_count": null,
      "outputs": []
    },
    {
      "cell_type": "code",
      "source": [
        "# Encoding categorical variables\n",
        "encoder = LabelEncoder()\n",
        "data['State'] = encoder.fit_transform(data['State'])\n",
        "data[\"Int'l Plan\"] = encoder.fit_transform(data[\"Int'l Plan\"].astype(str))\n",
        "data['VMail Plan'] = encoder.fit_transform(data['VMail Plan'].astype(str))"
      ],
      "metadata": {
        "id": "0wB_SxVV-BJn"
      },
      "execution_count": 20,
      "outputs": []
    },
    {
      "cell_type": "code",
      "source": [
        "# Ensure all columns are numeric\n",
        "data = data.apply(pd.to_numeric, errors='coerce')"
      ],
      "metadata": {
        "id": "Pd09HIvb-Dn7"
      },
      "execution_count": 21,
      "outputs": []
    },
    {
      "cell_type": "code",
      "source": [
        "# Drop any remaining NaN values\n",
        "data.dropna(inplace=True)"
      ],
      "metadata": {
        "id": "fPwp0ol7-GNb"
      },
      "execution_count": 22,
      "outputs": []
    },
    {
      "cell_type": "code",
      "source": [
        "# Feature Selection\n",
        "features = [col for col in data.columns if col != 'Churn?']\n",
        "target = 'Churn?'\n",
        "X = data[features]\n",
        "y = data[target]"
      ],
      "metadata": {
        "id": "giZNxrq1-Ixn"
      },
      "execution_count": 23,
      "outputs": []
    },
    {
      "cell_type": "code",
      "source": [
        "# Splitting dataset\n",
        "X_train, X_test, y_train, y_test = train_test_split(X, y, test_size=0.2, random_state=42)"
      ],
      "metadata": {
        "id": "hmMsbUPV-Kmq"
      },
      "execution_count": 24,
      "outputs": []
    },
    {
      "cell_type": "code",
      "source": [
        "# Scaling features\n",
        "scaler = StandardScaler()\n",
        "X_train = scaler.fit_transform(X_train)\n",
        "X_test = scaler.transform(X_test)"
      ],
      "metadata": {
        "id": "Qfhk3FtA-MsJ"
      },
      "execution_count": 25,
      "outputs": []
    },
    {
      "cell_type": "code",
      "source": [
        "# Reshaping for LSTM (3D input)\n",
        "X_train_lstm = X_train.reshape((X_train.shape[0], X_train.shape[1], 1))\n",
        "X_test_lstm = X_test.reshape((X_test.shape[0], X_test.shape[1], 1))"
      ],
      "metadata": {
        "id": "okcKf1kl-Ovx"
      },
      "execution_count": 26,
      "outputs": []
    },
    {
      "cell_type": "code",
      "source": [
        "# LSTM Model\n",
        "model = Sequential([\n",
        "    LSTM(64, return_sequences=True, input_shape=(X_train.shape[1], 1)),\n",
        "    Dropout(0.2),\n",
        "    LSTM(32, return_sequences=False),\n",
        "    Dropout(0.2),\n",
        "    Dense(1, activation='sigmoid')\n",
        "])"
      ],
      "metadata": {
        "colab": {
          "base_uri": "https://localhost:8080/"
        },
        "id": "SdGAGmWw-Qmb",
        "outputId": "8ea45271-212d-4f7e-a468-262492c9117b"
      },
      "execution_count": 27,
      "outputs": [
        {
          "output_type": "stream",
          "name": "stderr",
          "text": [
            "/usr/local/lib/python3.11/dist-packages/keras/src/layers/rnn/rnn.py:200: UserWarning: Do not pass an `input_shape`/`input_dim` argument to a layer. When using Sequential models, prefer using an `Input(shape)` object as the first layer in the model instead.\n",
            "  super().__init__(**kwargs)\n"
          ]
        }
      ]
    },
    {
      "cell_type": "code",
      "source": [
        "model.compile(optimizer='adam', loss='binary_crossentropy', metrics=['accuracy'])"
      ],
      "metadata": {
        "id": "2szEYSDb-Slv"
      },
      "execution_count": 28,
      "outputs": []
    },
    {
      "cell_type": "code",
      "source": [
        "# Early Stopping\n",
        "early_stopping = EarlyStopping(monitor='val_loss', patience=5, restore_best_weights=True)\n"
      ],
      "metadata": {
        "id": "I8OenESe-X-I"
      },
      "execution_count": 29,
      "outputs": []
    },
    {
      "cell_type": "code",
      "source": [
        "# Train LSTM Model\n",
        "history = model.fit(X_train_lstm, y_train, epochs=50, batch_size=32, validation_data=(X_test_lstm, y_test), callbacks=[early_stopping])"
      ],
      "metadata": {
        "colab": {
          "base_uri": "https://localhost:8080/"
        },
        "id": "uGtmbZC7-aL-",
        "outputId": "f8a3ef22-3db3-4a7a-e7cc-0aada3e55e30"
      },
      "execution_count": 30,
      "outputs": [
        {
          "output_type": "stream",
          "name": "stdout",
          "text": [
            "Epoch 1/50\n",
            "\u001b[1m84/84\u001b[0m \u001b[32m━━━━━━━━━━━━━━━━━━━━\u001b[0m\u001b[37m\u001b[0m \u001b[1m9s\u001b[0m 27ms/step - accuracy: 0.7976 - loss: 0.5239 - val_accuracy: 0.8381 - val_loss: 0.4083\n",
            "Epoch 2/50\n",
            "\u001b[1m84/84\u001b[0m \u001b[32m━━━━━━━━━━━━━━━━━━━━\u001b[0m\u001b[37m\u001b[0m \u001b[1m2s\u001b[0m 21ms/step - accuracy: 0.8556 - loss: 0.3967 - val_accuracy: 0.8486 - val_loss: 0.3988\n",
            "Epoch 3/50\n",
            "\u001b[1m84/84\u001b[0m \u001b[32m━━━━━━━━━━━━━━━━━━━━\u001b[0m\u001b[37m\u001b[0m \u001b[1m2s\u001b[0m 21ms/step - accuracy: 0.8562 - loss: 0.3969 - val_accuracy: 0.8486 - val_loss: 0.3891\n",
            "Epoch 4/50\n",
            "\u001b[1m84/84\u001b[0m \u001b[32m━━━━━━━━━━━━━━━━━━━━\u001b[0m\u001b[37m\u001b[0m \u001b[1m2s\u001b[0m 20ms/step - accuracy: 0.8633 - loss: 0.3814 - val_accuracy: 0.8486 - val_loss: 0.3798\n",
            "Epoch 5/50\n",
            "\u001b[1m84/84\u001b[0m \u001b[32m━━━━━━━━━━━━━━━━━━━━\u001b[0m\u001b[37m\u001b[0m \u001b[1m3s\u001b[0m 31ms/step - accuracy: 0.8563 - loss: 0.3776 - val_accuracy: 0.8486 - val_loss: 0.3646\n",
            "Epoch 6/50\n",
            "\u001b[1m84/84\u001b[0m \u001b[32m━━━━━━━━━━━━━━━━━━━━\u001b[0m\u001b[37m\u001b[0m \u001b[1m4s\u001b[0m 21ms/step - accuracy: 0.8647 - loss: 0.3496 - val_accuracy: 0.8501 - val_loss: 0.3516\n",
            "Epoch 7/50\n",
            "\u001b[1m84/84\u001b[0m \u001b[32m━━━━━━━━━━━━━━━━━━━━\u001b[0m\u001b[37m\u001b[0m \u001b[1m2s\u001b[0m 20ms/step - accuracy: 0.8572 - loss: 0.3642 - val_accuracy: 0.8501 - val_loss: 0.3517\n",
            "Epoch 8/50\n",
            "\u001b[1m84/84\u001b[0m \u001b[32m━━━━━━━━━━━━━━━━━━━━\u001b[0m\u001b[37m\u001b[0m \u001b[1m3s\u001b[0m 22ms/step - accuracy: 0.8651 - loss: 0.3457 - val_accuracy: 0.8576 - val_loss: 0.3213\n",
            "Epoch 9/50\n",
            "\u001b[1m84/84\u001b[0m \u001b[32m━━━━━━━━━━━━━━━━━━━━\u001b[0m\u001b[37m\u001b[0m \u001b[1m2s\u001b[0m 23ms/step - accuracy: 0.8584 - loss: 0.3360 - val_accuracy: 0.8591 - val_loss: 0.3168\n",
            "Epoch 10/50\n",
            "\u001b[1m84/84\u001b[0m \u001b[32m━━━━━━━━━━━━━━━━━━━━\u001b[0m\u001b[37m\u001b[0m \u001b[1m3s\u001b[0m 26ms/step - accuracy: 0.8872 - loss: 0.3016 - val_accuracy: 0.8666 - val_loss: 0.3097\n",
            "Epoch 11/50\n",
            "\u001b[1m84/84\u001b[0m \u001b[32m━━━━━━━━━━━━━━━━━━━━\u001b[0m\u001b[37m\u001b[0m \u001b[1m2s\u001b[0m 20ms/step - accuracy: 0.8560 - loss: 0.3257 - val_accuracy: 0.8546 - val_loss: 0.3005\n",
            "Epoch 12/50\n",
            "\u001b[1m84/84\u001b[0m \u001b[32m━━━━━━━━━━━━━━━━━━━━\u001b[0m\u001b[37m\u001b[0m \u001b[1m3s\u001b[0m 22ms/step - accuracy: 0.8763 - loss: 0.3211 - val_accuracy: 0.8801 - val_loss: 0.2974\n",
            "Epoch 13/50\n",
            "\u001b[1m84/84\u001b[0m \u001b[32m━━━━━━━━━━━━━━━━━━━━\u001b[0m\u001b[37m\u001b[0m \u001b[1m3s\u001b[0m 22ms/step - accuracy: 0.8813 - loss: 0.2988 - val_accuracy: 0.8891 - val_loss: 0.2814\n",
            "Epoch 14/50\n",
            "\u001b[1m84/84\u001b[0m \u001b[32m━━━━━━━━━━━━━━━━━━━━\u001b[0m\u001b[37m\u001b[0m \u001b[1m3s\u001b[0m 25ms/step - accuracy: 0.8810 - loss: 0.3040 - val_accuracy: 0.8876 - val_loss: 0.2707\n",
            "Epoch 15/50\n",
            "\u001b[1m84/84\u001b[0m \u001b[32m━━━━━━━━━━━━━━━━━━━━\u001b[0m\u001b[37m\u001b[0m \u001b[1m3s\u001b[0m 31ms/step - accuracy: 0.8840 - loss: 0.2986 - val_accuracy: 0.8846 - val_loss: 0.2927\n",
            "Epoch 16/50\n",
            "\u001b[1m84/84\u001b[0m \u001b[32m━━━━━━━━━━━━━━━━━━━━\u001b[0m\u001b[37m\u001b[0m \u001b[1m3s\u001b[0m 35ms/step - accuracy: 0.8964 - loss: 0.2714 - val_accuracy: 0.8831 - val_loss: 0.2654\n",
            "Epoch 17/50\n",
            "\u001b[1m84/84\u001b[0m \u001b[32m━━━━━━━━━━━━━━━━━━━━\u001b[0m\u001b[37m\u001b[0m \u001b[1m3s\u001b[0m 36ms/step - accuracy: 0.8830 - loss: 0.2845 - val_accuracy: 0.8891 - val_loss: 0.2700\n",
            "Epoch 18/50\n",
            "\u001b[1m84/84\u001b[0m \u001b[32m━━━━━━━━━━━━━━━━━━━━\u001b[0m\u001b[37m\u001b[0m \u001b[1m4s\u001b[0m 24ms/step - accuracy: 0.8883 - loss: 0.2834 - val_accuracy: 0.8966 - val_loss: 0.2515\n",
            "Epoch 19/50\n",
            "\u001b[1m84/84\u001b[0m \u001b[32m━━━━━━━━━━━━━━━━━━━━\u001b[0m\u001b[37m\u001b[0m \u001b[1m3s\u001b[0m 30ms/step - accuracy: 0.8885 - loss: 0.2656 - val_accuracy: 0.8876 - val_loss: 0.2761\n",
            "Epoch 20/50\n",
            "\u001b[1m84/84\u001b[0m \u001b[32m━━━━━━━━━━━━━━━━━━━━\u001b[0m\u001b[37m\u001b[0m \u001b[1m2s\u001b[0m 23ms/step - accuracy: 0.9049 - loss: 0.2492 - val_accuracy: 0.9055 - val_loss: 0.2436\n",
            "Epoch 21/50\n",
            "\u001b[1m84/84\u001b[0m \u001b[32m━━━━━━━━━━━━━━━━━━━━\u001b[0m\u001b[37m\u001b[0m \u001b[1m2s\u001b[0m 21ms/step - accuracy: 0.9043 - loss: 0.2638 - val_accuracy: 0.8876 - val_loss: 0.2585\n",
            "Epoch 22/50\n",
            "\u001b[1m84/84\u001b[0m \u001b[32m━━━━━━━━━━━━━━━━━━━━\u001b[0m\u001b[37m\u001b[0m \u001b[1m3s\u001b[0m 24ms/step - accuracy: 0.8982 - loss: 0.2609 - val_accuracy: 0.8891 - val_loss: 0.2838\n",
            "Epoch 23/50\n",
            "\u001b[1m84/84\u001b[0m \u001b[32m━━━━━━━━━━━━━━━━━━━━\u001b[0m\u001b[37m\u001b[0m \u001b[1m2s\u001b[0m 20ms/step - accuracy: 0.9028 - loss: 0.2484 - val_accuracy: 0.8906 - val_loss: 0.2527\n",
            "Epoch 24/50\n",
            "\u001b[1m84/84\u001b[0m \u001b[32m━━━━━━━━━━━━━━━━━━━━\u001b[0m\u001b[37m\u001b[0m \u001b[1m4s\u001b[0m 37ms/step - accuracy: 0.8990 - loss: 0.2553 - val_accuracy: 0.8966 - val_loss: 0.2479\n",
            "Epoch 25/50\n",
            "\u001b[1m84/84\u001b[0m \u001b[32m━━━━━━━━━━━━━━━━━━━━\u001b[0m\u001b[37m\u001b[0m \u001b[1m4s\u001b[0m 20ms/step - accuracy: 0.9059 - loss: 0.2535 - val_accuracy: 0.9085 - val_loss: 0.2346\n",
            "Epoch 26/50\n",
            "\u001b[1m84/84\u001b[0m \u001b[32m━━━━━━━━━━━━━━━━━━━━\u001b[0m\u001b[37m\u001b[0m \u001b[1m3s\u001b[0m 23ms/step - accuracy: 0.9104 - loss: 0.2351 - val_accuracy: 0.8816 - val_loss: 0.2881\n",
            "Epoch 27/50\n",
            "\u001b[1m84/84\u001b[0m \u001b[32m━━━━━━━━━━━━━━━━━━━━\u001b[0m\u001b[37m\u001b[0m \u001b[1m2s\u001b[0m 21ms/step - accuracy: 0.9059 - loss: 0.2499 - val_accuracy: 0.9025 - val_loss: 0.2449\n",
            "Epoch 28/50\n",
            "\u001b[1m84/84\u001b[0m \u001b[32m━━━━━━━━━━━━━━━━━━━━\u001b[0m\u001b[37m\u001b[0m \u001b[1m3s\u001b[0m 28ms/step - accuracy: 0.8995 - loss: 0.2614 - val_accuracy: 0.8996 - val_loss: 0.2414\n",
            "Epoch 29/50\n",
            "\u001b[1m84/84\u001b[0m \u001b[32m━━━━━━━━━━━━━━━━━━━━\u001b[0m\u001b[37m\u001b[0m \u001b[1m2s\u001b[0m 28ms/step - accuracy: 0.9086 - loss: 0.2471 - val_accuracy: 0.9025 - val_loss: 0.2428\n",
            "Epoch 30/50\n",
            "\u001b[1m84/84\u001b[0m \u001b[32m━━━━━━━━━━━━━━━━━━━━\u001b[0m\u001b[37m\u001b[0m \u001b[1m2s\u001b[0m 21ms/step - accuracy: 0.9115 - loss: 0.2303 - val_accuracy: 0.8966 - val_loss: 0.2477\n"
          ]
        }
      ]
    },
    {
      "cell_type": "code",
      "source": [
        "# Predictions\n",
        "lstm_preds = (model.predict(X_test_lstm) > 0.5).astype(int)"
      ],
      "metadata": {
        "colab": {
          "base_uri": "https://localhost:8080/"
        },
        "id": "u0DNVovr-cvI",
        "outputId": "8a8e9dab-11ec-4bb8-db97-4e80be94b9d0"
      },
      "execution_count": 31,
      "outputs": [
        {
          "output_type": "stream",
          "name": "stdout",
          "text": [
            "\u001b[1m21/21\u001b[0m \u001b[32m━━━━━━━━━━━━━━━━━━━━\u001b[0m\u001b[37m\u001b[0m \u001b[1m2s\u001b[0m 45ms/step\n"
          ]
        }
      ]
    },
    {
      "cell_type": "code",
      "source": [
        "# Evaluate LSTM\n",
        "print(\"LSTM Accuracy:\", accuracy_score(y_test, lstm_preds))\n",
        "print(classification_report(y_test, lstm_preds))"
      ],
      "metadata": {
        "colab": {
          "base_uri": "https://localhost:8080/"
        },
        "id": "f0IwSN2-_FFh",
        "outputId": "3917120e-0078-4bb0-f7ba-549cc2726a19"
      },
      "execution_count": 32,
      "outputs": [
        {
          "output_type": "stream",
          "name": "stdout",
          "text": [
            "LSTM Accuracy: 0.9085457271364318\n",
            "              precision    recall  f1-score   support\n",
            "\n",
            "           0       0.92      0.98      0.95       566\n",
            "           1       0.80      0.52      0.63       101\n",
            "\n",
            "    accuracy                           0.91       667\n",
            "   macro avg       0.86      0.75      0.79       667\n",
            "weighted avg       0.90      0.91      0.90       667\n",
            "\n"
          ]
        }
      ]
    },
    {
      "cell_type": "code",
      "source": [
        "# Train and Evaluate XGBoost\n",
        "xgb = XGBClassifier()\n",
        "xgb.fit(X_train, y_train)\n",
        "xgb_preds = xgb.predict(X_test)\n",
        "print(\"XGBoost Accuracy:\", accuracy_score(y_test, xgb_preds))\n"
      ],
      "metadata": {
        "colab": {
          "base_uri": "https://localhost:8080/"
        },
        "id": "WFUuafYa_Lzp",
        "outputId": "81a88151-7721-4832-856f-8a31211674b5"
      },
      "execution_count": 33,
      "outputs": [
        {
          "output_type": "stream",
          "name": "stdout",
          "text": [
            "XGBoost Accuracy: 0.9580209895052474\n"
          ]
        }
      ]
    },
    {
      "cell_type": "code",
      "source": [
        "# Train and Evaluate Random Forest\n",
        "rf = RandomForestClassifier()\n",
        "rf.fit(X_train, y_train)\n",
        "rf_preds = rf.predict(X_test)\n",
        "print(\"Random Forest Accuracy:\", accuracy_score(y_test, rf_preds))"
      ],
      "metadata": {
        "colab": {
          "base_uri": "https://localhost:8080/"
        },
        "id": "03t93B4k_N1W",
        "outputId": "a72aab4d-1d53-485c-a870-82dad731006a"
      },
      "execution_count": 34,
      "outputs": [
        {
          "output_type": "stream",
          "name": "stdout",
          "text": [
            "Random Forest Accuracy: 0.9505247376311844\n"
          ]
        }
      ]
    },
    {
      "cell_type": "code",
      "source": [
        "# Visualization\n",
        "plt.plot(history.history['loss'], label='Train Loss')\n",
        "plt.plot(history.history['val_loss'], label='Val Loss')\n",
        "plt.legend()\n",
        "plt.show()"
      ],
      "metadata": {
        "colab": {
          "base_uri": "https://localhost:8080/",
          "height": 429
        },
        "id": "4NfSWjno_R7s",
        "outputId": "84002aa5-cf9f-41a4-9807-e387cf7620dd"
      },
      "execution_count": 35,
      "outputs": [
        {
          "output_type": "display_data",
          "data": {
            "text/plain": [
              "<Figure size 640x480 with 1 Axes>"
            ],
            "image/png": "[encoded data removed]"
          },
          "metadata": {}
        }
      ]
    },
    {
      "cell_type": "code",
      "source": [
        "# Save results for Power BI visualization\n",
        "results = pd.DataFrame({\n",
        "    'Actual': y_test,\n",
        "    'LSTM_Predicted': lstm_preds.flatten(),\n",
        "    'XGBoost_Predicted': xgb_preds,\n",
        "    'RandomForest_Predicted': rf_preds\n",
        "})\n",
        "results.to_csv(\"churn_predictions.csv\", index=False)\n"
      ],
      "metadata": {
        "id": "InjjT9ZJ_V_j"
      },
      "execution_count": 36,
      "outputs": []
    },
    {
      "cell_type": "markdown",
      "source": [
        "Here’s a breakdown of the **Customer Churn Prediction using Deep Learning** implementation along with topics you should study to understand each part:\n",
        "\n",
        "---\n",
        "\n",
        "## **1. Data Preprocessing**  \n",
        "### **Topics to Study:**  \n",
        "- **Data Cleaning & Feature Engineering**  \n",
        "- **Handling Missing Values**  \n",
        "- **Encoding Categorical Variables**  \n",
        "\n",
        "### **Code Explanation:**  \n",
        "```python\n",
        "# Load Dataset\n",
        "data = pd.read_csv(\"/mnt/data/churn.csv\")\n",
        "```\n",
        "📌 **Loads the dataset** into a pandas DataFrame.  \n",
        "\n",
        "```python\n",
        "# Cleaning target column\n",
        "data['Churn?'] = data['Churn?'].map(lambda x: 1 if str(x).strip().lower() == 'true.' else 0)\n",
        "```\n",
        "📌 **Converts the target column** `\"Churn?\"` into binary values (1 for churn, 0 for non-churn).  \n",
        "\n",
        "```python\n",
        "# Dropping irrelevant columns\n",
        "data.drop(columns=['Phone'], inplace=True)\n",
        "```\n",
        "📌 **Removes unnecessary columns** (e.g., `\"Phone\"` is just an identifier and not useful for prediction).  \n",
        "\n",
        "```python\n",
        "# Encoding categorical variables\n",
        "encoder = LabelEncoder()\n",
        "data['State'] = encoder.fit_transform(data['State'])\n",
        "data[\"Int'l Plan\"] = encoder.fit_transform(data[\"Int'l Plan\"].astype(str))\n",
        "data['VMail Plan'] = encoder.fit_transform(data['VMail Plan'].astype(str))\n",
        "```\n",
        "📌 **Encodes categorical variables** (`\"State\"`, `\"Int'l Plan\"`, and `\"VMail Plan\"`) into numeric values for the model.  \n",
        "\n",
        "```python\n",
        "# Ensure all columns are numeric\n",
        "data = data.apply(pd.to_numeric, errors='coerce')\n",
        "```\n",
        "📌 **Ensures that all data is numeric**, converting anything invalid to NaN.  \n",
        "\n",
        "```python\n",
        "# Drop any remaining NaN values\n",
        "data.dropna(inplace=True)\n",
        "```\n",
        "📌 **Removes any NaN values** after conversion.  \n",
        "\n",
        "---\n",
        "\n",
        "## **2. Feature Selection & Splitting Data**  \n",
        "### **Topics to Study:**  \n",
        "- **Feature Selection in Machine Learning**  \n",
        "- **Train-Test Split & Data Partitioning**  \n",
        "- **Standardization & Normalization**  \n",
        "\n",
        "### **Code Explanation:**  \n",
        "```python\n",
        "# Feature Selection\n",
        "features = [col for col in data.columns if col != 'Churn?']\n",
        "target = 'Churn?'\n",
        "X = data[features]\n",
        "y = data[target]\n",
        "```\n",
        "📌 **Separates features (`X`) and target (`y`)** for model training.  \n",
        "\n",
        "```python\n",
        "# Splitting dataset\n",
        "X_train, X_test, y_train, y_test = train_test_split(X, y, test_size=0.2, random_state=42)\n",
        "```\n",
        "📌 **Splits data into training (80%) and testing (20%) sets** to evaluate model performance.  \n",
        "\n",
        "```python\n",
        "# Scaling features\n",
        "scaler = StandardScaler()\n",
        "X_train = scaler.fit_transform(X_train)\n",
        "X_test = scaler.transform(X_test)\n",
        "```\n",
        "📌 **Standardizes features** (mean = 0, variance = 1) to improve model convergence.  \n",
        "\n",
        "---\n",
        "\n",
        "## **3. LSTM Model Implementation**  \n",
        "### **Topics to Study:**  \n",
        "- **Deep Learning & Recurrent Neural Networks (RNNs)**  \n",
        "- **Long Short-Term Memory (LSTM) Networks**  \n",
        "- **Keras Sequential API for Deep Learning**  \n",
        "\n",
        "### **Code Explanation:**  \n",
        "```python\n",
        "# Reshaping for LSTM (3D input)\n",
        "X_train_lstm = X_train.reshape((X_train.shape[0], X_train.shape[1], 1))\n",
        "X_test_lstm = X_test.reshape((X_test.shape[0], X_test.shape[1], 1))\n",
        "```\n",
        "📌 **LSTM models expect 3D input**, so we reshape data accordingly: `(samples, timesteps, features)`.  \n",
        "\n",
        "```python\n",
        "# LSTM Model\n",
        "model = Sequential([\n",
        "    LSTM(64, return_sequences=True, input_shape=(X_train.shape[1], 1)),\n",
        "    Dropout(0.2),\n",
        "    LSTM(32, return_sequences=False),\n",
        "    Dropout(0.2),\n",
        "    Dense(1, activation='sigmoid')\n",
        "])\n",
        "```\n",
        "📌 **Builds an LSTM model**:  \n",
        "- **LSTM(64, return_sequences=True)** → First LSTM layer with 64 units.  \n",
        "- **Dropout(0.2)** → Helps prevent overfitting.  \n",
        "- **LSTM(32, return_sequences=False)** → Second LSTM layer with 32 units.  \n",
        "- **Dense(1, activation='sigmoid')** → Final layer outputs probability of churn.  \n",
        "\n",
        "```python\n",
        "model.compile(optimizer='adam', loss='binary_crossentropy', metrics=['accuracy'])\n",
        "```\n",
        "📌 **Compiles the model** using:  \n",
        "- **Adam optimizer** → Efficient gradient descent algorithm.  \n",
        "- **Binary Cross-Entropy loss** → Suitable for binary classification.  \n",
        "\n",
        "```python\n",
        "# Early Stopping\n",
        "early_stopping = EarlyStopping(monitor='val_loss', patience=5, restore_best_weights=True)\n",
        "```\n",
        "📌 **Stops training early** if validation loss stops improving for 5 epochs.  \n",
        "\n",
        "```python\n",
        "# Train LSTM Model\n",
        "history = model.fit(X_train_lstm, y_train, epochs=50, batch_size=32, validation_data=(X_test_lstm, y_test), callbacks=[early_stopping])\n",
        "```\n",
        "📌 **Trains the model for 50 epochs** (or until early stopping triggers).  \n",
        "\n",
        "---\n",
        "\n",
        "## **4. Model Evaluation & Prediction**  \n",
        "### **Topics to Study:**  \n",
        "- **Model Evaluation Metrics**  \n",
        "- **Accuracy, Precision, Recall, F1-Score**  \n",
        "\n",
        "### **Code Explanation:**  \n",
        "```python\n",
        "# Predictions\n",
        "lstm_preds = (model.predict(X_test_lstm) > 0.5).astype(int)\n",
        "```\n",
        "📌 **Predicts customer churn** (probabilities above 0.5 are classified as churn).  \n",
        "\n",
        "```python\n",
        "# Evaluate LSTM\n",
        "print(\"LSTM Accuracy:\", accuracy_score(y_test, lstm_preds))\n",
        "print(classification_report(y_test, lstm_preds))\n",
        "```\n",
        "📌 **Computes accuracy, precision, recall, and F1-score** for model evaluation.  \n",
        "\n",
        "---\n",
        "\n",
        "## **5. XGBoost & Random Forest Comparisons**  \n",
        "### **Topics to Study:**  \n",
        "- **Ensemble Learning (XGBoost & Random Forest)**  \n",
        "- **Hyperparameter Tuning**  \n",
        "\n",
        "### **Code Explanation:**  \n",
        "```python\n",
        "# Train and Evaluate XGBoost\n",
        "xgb = XGBClassifier()\n",
        "xgb.fit(X_train, y_train)\n",
        "xgb_preds = xgb.predict(X_test)\n",
        "print(\"XGBoost Accuracy:\", accuracy_score(y_test, xgb_preds))\n",
        "```\n",
        "📌 **Trains an XGBoost classifier** and evaluates performance.  \n",
        "\n",
        "```python\n",
        "# Train and Evaluate Random Forest\n",
        "rf = RandomForestClassifier()\n",
        "rf.fit(X_train, y_train)\n",
        "rf_preds = rf.predict(X_test)\n",
        "print(\"Random Forest Accuracy:\", accuracy_score(y_test, rf_preds))\n",
        "```\n",
        "📌 **Trains a Random Forest model** for comparison.  \n",
        "\n",
        "---\n",
        "\n",
        "## **6. Data Visualization & Export for Power BI**  \n",
        "### **Topics to Study:**  \n",
        "- **Data Visualization in Matplotlib & Seaborn**  \n",
        "- **Business Intelligence & Power BI**  \n",
        "\n",
        "### **Code Explanation:**  \n",
        "```python\n",
        "# Visualization\n",
        "plt.plot(history.history['loss'], label='Train Loss')\n",
        "plt.plot(history.history['val_loss'], label='Val Loss')\n",
        "plt.legend()\n",
        "plt.show()\n",
        "```\n",
        "📌 **Plots training vs validation loss** to monitor model performance.  \n",
        "\n",
        "```python\n",
        "# Save results for Power BI visualization\n",
        "results = pd.DataFrame({\n",
        "    'Actual': y_test,\n",
        "    'LSTM_Predicted': lstm_preds.flatten(),\n",
        "    'XGBoost_Predicted': xgb_preds,\n",
        "    'RandomForest_Predicted': rf_preds\n",
        "})\n",
        "results.to_csv(\"churn_predictions.csv\", index=False)\n",
        "```\n",
        "📌 **Saves predictions for further analysis in Power BI** or other visualization tools.  \n",
        "\n",
        "---\n",
        "\n",
        "## **Summary of Topics to Study:**\n",
        "1. **Data Preprocessing** → Handling missing values, categorical encoding, scaling.  \n",
        "2. **Feature Engineering** → Feature selection, train-test split, normalization.  \n",
        "3. **Deep Learning & LSTMs** → Recurrent neural networks, LSTM architecture.  \n",
        "4. **Model Evaluation** → Metrics like accuracy, precision, recall, F1-score.  \n",
        "5. **Ensemble Learning** → Understanding XGBoost & Random Forest classifiers.  \n",
        "6. **Business Intelligence** → Visualizing results for decision-making.  \n",
        "\n",
        "This will give you a solid foundation for understanding how the project works! 🚀"
      ],
      "metadata": {
        "id": "1_VZsotjBBSY"
      }
    },
    {
      "cell_type": "code",
      "source": [],
      "metadata": {
        "id": "iz7AKpXtBBv4"
      },
      "execution_count": null,
      "outputs": []
    }
  ]
}